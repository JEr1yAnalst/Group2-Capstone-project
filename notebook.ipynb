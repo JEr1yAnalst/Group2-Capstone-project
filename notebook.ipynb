{
 "cells": [
  {
   "cell_type": "markdown",
   "metadata": {},
   "source": [
    "## Predicting Future Trends in Airline Customer Sentiment Using Sentiment Analysis and incorporating Time Series Forecasting\n",
    "\n",
    "#### AUTHORS\n",
    "\n",
    "* Jeremiah Waiguru\n",
    "* Mercy Kiragu\n",
    "* Paul Ngatia\n",
    "* Winfred Kinya"
   ]
  },
  {
   "cell_type": "markdown",
   "metadata": {},
   "source": [
    "## 1.0 Project Overview\n",
    "\n",
    "This project aims to analyze and predict customer sentiment towards various airlines by leveraging a dataset of customer feedback. The project will apply natural language processing (NLP) techniques to classify feedback as positive, negative, or neutral and use time series analysis to forecast future sentiment trends. These insights will help airlines enhance customer satisfaction, tailor their services, and address issues proactively."
   ]
  },
  {
   "cell_type": "markdown",
   "metadata": {},
   "source": [
    "## 1.1 Business Understanding\n",
    "\n"
   ]
  },
  {
   "cell_type": "markdown",
   "metadata": {},
   "source": [
    "## 1.2 Problem Statement\n",
    "\n",
    "The airline industry is currently facing a notable decrease in customer satisfaction, leading to unfavorable brand perception and diminished customer loyalty. This decline in satisfaction can be attributed to several factors, including flight delays, inadequate customer service, mishandling of luggage, and other operational inefficiencies. As a result, addressing these customer concerns and enhancing the overall brand perception has become a crucial focus for airlines."
   ]
  },
  {
   "cell_type": "markdown",
   "metadata": {},
   "source": [
    "## 1.3 Objectives\n",
    "\n",
    "### Primary objective\n",
    "\n",
    "To analyze and predict customer sentiment towards various airlines using sentiment analysis and time series forecasting, providing actionable insights to improve customer satisfaction and operational strategies.\n",
    "\n",
    "### Specific objectives\n",
    "\n",
    "1.\tImplement a real-time monitoring system to continuously capture and process tweets related to airlines from Twitter.\n",
    "2.\tImplement and compare various NLP models (e.g., Logistic Regression, Naive Bayes, BERT, LSTM) for sentiment classification.\n",
    "3.\tDevelop time series forecasting models to predict future trends in customer sentiment. \n",
    "4.\tGenerate actionable insights and recommendations based on sentiment analysis to improve customer satisfaction, address pain points, and enhance overall brand reputation. \n",
    "5.\tEstablish an effective response and engagement strategy to manage negative sentiment, address customer complaints, and foster positive customer experiences.\n"
   ]
  },
  {
   "cell_type": "markdown",
   "metadata": {},
   "source": [
    "## 2.0  Data Understanding\n",
    "\n",
    "Our dataset was publicly sourced from crowdflower website and is made up of Twitter users' tweets and retweets. The dataset has 14,640 rows and 20 columns. This Twitter data was collected from February 2015 and contributors were engaged in classifying tweets into categories of positive, negative, and neutral sentiments."
   ]
  }
 ],
 "metadata": {
  "language_info": {
   "name": "python"
  }
 },
 "nbformat": 4,
 "nbformat_minor": 2
}
