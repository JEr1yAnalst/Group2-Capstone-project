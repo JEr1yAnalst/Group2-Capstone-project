{
 "cells": [
  {
   "cell_type": "markdown",
   "metadata": {},
   "source": [
    "## PREDICTING FUTURE TRENDS IN AIRLINE CUSTOMER SENTIMENT USING SENTIMENT ANALYSIS AND INCORPORATING TIME SERIES FORECASTING\n",
    "\n",
    "#### AUTHORS\n",
    "\n",
    "* Jeremiah Waiguru\n",
    "* Mercy Kiragu\n",
    "* Paul Ngatia\n",
    "* Winfred Kinya"
   ]
  },
  {
   "cell_type": "markdown",
   "metadata": {},
   "source": [
    "## 1.0  PROJECT OVERVIEW\n",
    "\n",
    "This project aims to analyze and predict customer sentiment towards various airlines by leveraging a dataset of customer feedback. The project will apply natural language processing (NLP) techniques to classify feedback as positive, negative, or neutral and use time series analysis to forecast future sentiment trends. These insights will help airlines enhance customer satisfaction, tailor their services, and address issues proactively."
   ]
  },
  {
   "cell_type": "markdown",
   "metadata": {},
   "source": [
    "## 1.1  BUSINESS UNDERSTANDING\n",
    "\n",
    "In the competitive landscape of the airline industry, understanding and managing customer sentiment is crucial for maintaining high levels of customer satisfaction and loyalty. Airlines receive a substantial amount of feedback through various channels such as social media, customer service interactions, and surveys. Analyzing this feedback to discern customer sentiment and predict future trends can provide significant benefits. By proactively addressing customer concerns, airlines can enhance their service quality, optimize operational efficiency, and build a strong reputation. This project seeks to provide airlines with the tools and insights necessary to identify common themes in customer feedback, understand how sentiment evolves over time, and forecast future sentiment trends. These insights will enable airlines to make data-driven decisions that improve customer experiences, resolve issues proactively, and maintain a competitive advantage in the market."
   ]
  },
  {
   "cell_type": "markdown",
   "metadata": {},
   "source": [
    "## 1.2  PROBLEM STATEMENT\n",
    "\n",
    "The airline industry is currently facing a notable decrease in customer satisfaction, leading to unfavorable brand perception and diminished customer loyalty. This decline in satisfaction can be attributed to several factors, including flight delays, inadequate customer service, mishandling of luggage, and other operational inefficiencies. As a result, addressing these customer concerns and enhancing the overall brand perception has become a crucial focus for airlines."
   ]
  },
  {
   "cell_type": "markdown",
   "metadata": {},
   "source": [
    "## 1.3  OBJECTIVES\n",
    "\n",
    "### Primary objective\n",
    "\n",
    "To analyze and predict customer sentiment towards various airlines using sentiment analysis and time series forecasting, providing actionable insights to improve customer satisfaction and operational strategies.\n",
    "\n",
    "### Specific objectives\n",
    "\n",
    "1.\tImplement a real-time monitoring system to continuously capture and process tweets related to airlines from Twitter.\n",
    "2.\tImplement and compare various NLP models (e.g., Logistic Regression, Naive Bayes, BERT, LSTM) for sentiment classification.\n",
    "3.\tDevelop time series forecasting models to predict future trends in customer sentiment. \n",
    "4.\tGenerate actionable insights and recommendations based on sentiment analysis to improve customer satisfaction, address pain points, and enhance overall brand reputation. \n",
    "5.\tEstablish an effective response and engagement strategy to manage negative sentiment, address customer complaints, and foster positive customer experiences.\n"
   ]
  },
  {
   "cell_type": "markdown",
   "metadata": {},
   "source": [
    "## 2.0  DATA UNDERSTANDING\n",
    "\n",
    "Our dataset was publicly sourced from crowdflower website and is made up of Twitter users' tweets and retweets. The dataset has 14,640 rows and 20 columns. This Twitter data was collected from February 2015 and contributors were engaged in classifying tweets into categories of positive, negative, and neutral sentiments.\n",
    "\n",
    "The dataset has 14,640 rows and 20 columns. Below are the columns and their descriptions: \n",
    "\n",
    "Unit id  : A unique identifier for each data unit. \n",
    "\n",
    "Golden : A boolean value indicating whether the entry is a golden unit in the dataset. \n",
    "\n",
    "Unit state : The state of the unit (e.g., golden). \n",
    "\n",
    "Trusted judgments : The number of trusted judgments for the entry. \n",
    "\n",
    "Last judgment at : Timestamp of the last judgment for the entry. \n",
    "\n",
    "Airline sentiment : The target variable, which represents the sentiment of the airline tweet (positive, negative, or neutral).\n",
    "\n",
    "Airline sentiment confidence: The confidence level associated with the airline sentiment. \n",
    "\n",
    "Negative reason : The reason for negative sentiment in the tweet. \n",
    "\n",
    "Negative reason confidence: The confidence level associated with the negative sentiment reason.\n",
    "\n",
    "airline: The airline associated with the tweet. \n",
    "\n",
    "Airline sentiment gold: Additional information about airline sentiment (gold \n",
    "standard). \n",
    "\n",
    "name: The name of the user who posted the tweet. \n",
    "\n",
    "Negative reason gold: Additional information about the negative sentiment reason \n",
    "(gold standard). \n",
    "\n",
    "Retweet count: The number of retweets for the tweet. \n",
    "\n",
    "text: The text content of the tweet. \n",
    "\n",
    "Tweet cord: Coordinates of the tweet (if available). \n",
    "\n",
    "Tweet created: Timestamp of when the tweet was created. \n",
    "\n",
    "Tweet id: The unique identifier of the tweet. \n",
    "\n",
    "Tweet location: The location associated with the tweet (if provided). \n",
    "\n",
    "User time zone: The time zone of the user who posted the tweet. \n"
   ]
  }
 ],
 "metadata": {
  "language_info": {
   "name": "python"
  }
 },
 "nbformat": 4,
 "nbformat_minor": 2
}
